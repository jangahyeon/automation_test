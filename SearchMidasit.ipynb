{
 "cells": [
  {
   "cell_type": "code",
   "execution_count": 57,
   "metadata": {},
   "outputs": [],
   "source": [
    "from selenium import webdriver\n",
    "from bs4 import BeautifulSoup\n",
    "\n",
    "browser = webdriver.Chrome('C:/chromedriver.exe')\n",
    "browser.get('https://www.naver.com') #URL 접근\n",
    "browser.find_element_by_id('query').send_keys('마이다스아이티') \n",
    "#send_keys() : 값 입력\n",
    "browser.find_element_by_id('search_btn').click()\n",
    "html = browser.page_source\n",
    "\n",
    "soup = BeautifulSoup(html, 'html.parser')\n",
    "\n",
    "verify = soup.select('#main_pack > div.nsite.section._nsiteBase > ul > li > dl > dt > a > b')[0].text\n",
    "\n",
    "if (verify, '마이다스아이티') :\n",
    "    browser.close()"
   ]
  }
 ],
 "metadata": {
  "kernelspec": {
   "display_name": "Python 3",
   "language": "python",
   "name": "python3"
  },
  "language_info": {
   "codemirror_mode": {
    "name": "ipython",
    "version": 3
   },
   "file_extension": ".py",
   "mimetype": "text/x-python",
   "name": "python",
   "nbconvert_exporter": "python",
   "pygments_lexer": "ipython3",
   "version": "3.7.4"
  }
 },
 "nbformat": 4,
 "nbformat_minor": 2
}
